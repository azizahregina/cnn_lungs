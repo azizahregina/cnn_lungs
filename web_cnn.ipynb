{
 "cells": [
  {
   "cell_type": "markdown",
   "metadata": {},
   "source": [
    "# D'COVIA"
   ]
  },
  {
   "cell_type": "markdown",
   "metadata": {},
   "source": [
    "Covid-19 Detection based on Lungs X-Ray Image Using Convolutional Neural Network Algorithm"
   ]
  },
  {
   "cell_type": "code",
   "execution_count": null,
   "metadata": {
    "id": "bRaZJDt9KQIW"
   },
   "outputs": [],
   "source": [
    "from ipywidgets import Layout, Button, Box, FileUpload, Label, Checkbox, IntSlider, IntText, Button\n",
    "import ipywidgets as widgets\n",
    "from IPython.display import display, Image\n",
    "import threading\n",
    "import time\n",
    "\n",
    "import tensorflow as tf\n",
    "#\n",
    "from keras.preprocessing import image\n",
    "\n",
    "# uploader to image cv2\n",
    "import numpy as np\n",
    "import cv2\n",
    "import matplotlib.pyplot as plt\n",
    " \n",
    "import os"
   ]
  },
  {
   "cell_type": "code",
   "execution_count": null,
   "metadata": {},
   "outputs": [],
   "source": [
    "h5_path = 'modellpb.h5'\n",
    "model = tf.keras.models.load_model(h5_path)"
   ]
  },
  {
   "cell_type": "code",
   "execution_count": null,
   "metadata": {},
   "outputs": [],
   "source": [
    "# uploader\n",
    "annotate_image_uploader = widgets.FileUpload(\n",
    "    accept='image/*',  # Accepted file extension e.g. '.txt', '.pdf', 'image/*', 'image/*,.pdf'\n",
    "    multiple=False  # True to accept multiple files upload else False\n",
    "    )\n"
   ]
  },
  {
   "cell_type": "code",
   "execution_count": null,
   "metadata": {},
   "outputs": [],
   "source": [
    "# uploader container\n",
    "image_annotate_container = widgets.VBox(\n",
    "    children = ()\n",
    ")"
   ]
  },
  {
   "cell_type": "code",
   "execution_count": null,
   "metadata": {},
   "outputs": [],
   "source": [
    "# wrapper\n",
    "app_2 = widgets.VBox(\n",
    "    children = (annotate_image_uploader, image_annotate_container,)\n",
    ")"
   ]
  },
  {
   "cell_type": "code",
   "execution_count": null,
   "metadata": {},
   "outputs": [],
   "source": [
    "# uploader image content and extension\n",
    "def get_content_and_extension(annotate_image_uploader):    \n",
    "    for _, value in annotate_image_uploader.value.items():\n",
    "        return value['content'], value['metadata']['name'].split('.')[-1]"
   ]
  },
  {
   "cell_type": "code",
   "execution_count": null,
   "metadata": {},
   "outputs": [],
   "source": [
    "# image widget from annotate_image_uploader\n",
    "def image_widget_from_uploader(annotate_image_uploader):\n",
    "    if annotate_image_uploader.value:\n",
    "        file_content, file_extension = get_content_and_extension(annotate_image_uploader)\n",
    "        return widgets.Image(value=file_content, format=file_extension)\n",
    "    else:\n",
    "        warnings.warn(\"NO IMAGE HAS BEEN UPLOADED\", category=Warning)\n",
    "        return widgets.Image()"
   ]
  },
  {
   "cell_type": "code",
   "execution_count": null,
   "metadata": {},
   "outputs": [],
   "source": [
    "# image numpy from uploader\n",
    "def image_numpy_from_uploader(annotate_image_uploader):\n",
    "    file_content, extension = get_content_and_extension(annotate_image_uploader)\n",
    "    arr_from_buf = np.frombuffer(file_content, np.uint8)\n",
    "    image_numpy = cv2.imdecode(arr_from_buf, cv2.IMREAD_COLOR)\n",
    "    return image_numpy, extension"
   ]
  },
  {
   "cell_type": "code",
   "execution_count": null,
   "metadata": {},
   "outputs": [],
   "source": [
    "# image widget from image numpy\n",
    "def image_widget_from_numpy(image_numpy, extension):\n",
    "    _, encoded_image = cv2.imencode('.'+extension, image_numpy)\n",
    "    image_bytes = encoded_image.tobytes()\n",
    "    return widgets.Image(value=image_bytes, format=extension)"
   ]
  },
  {
   "cell_type": "code",
   "execution_count": null,
   "metadata": {
    "id": "7I6nm-qfuMfy"
   },
   "outputs": [],
   "source": [
    "def image_reshape(image):\n",
    "    image = cv2.resize(image, (256, 256))\n",
    "    image = cv2.cvtColor(image,cv2.COLOR_GRAY2RGB)\n",
    "    image = image.reshape(-1, 256, 256, 3)\n",
    "    return image"
   ]
  },
  {
   "cell_type": "code",
   "execution_count": null,
   "metadata": {},
   "outputs": [],
   "source": [
    "def prepro_greyscale(image_numpy):\n",
    "    return cv2.cvtColor(image_numpy, cv2.COLOR_BGR2GRAY)\n",
    "\n",
    "def prepro_resize(image_numpy,resize_w=256,resize_l=256):\n",
    "    return cv2.resize(image_numpy,(resize_w,resize_l))\n",
    "\n",
    "def prepro_normalize(image_numpy,resize_w=256,resize_l=256):\n",
    "    out_arr = np.zeros((resize_w,resize_l))\n",
    "    return cv2.normalize(image_numpy, out_arr, 0, 255, cv2.NORM_MINMAX)\n",
    "\n",
    "def prepro_clahe(image_numpy, clipLimit=0.2, tileGridSize=8):\n",
    "    clahe = cv2.createCLAHE(clipLimit, (tileGridSize, tileGridSize))\n",
    "    return clahe.apply(image_numpy)"
   ]
  },
  {
   "cell_type": "code",
   "execution_count": null,
   "metadata": {
    "id": "FvPHhY9ELZDX"
   },
   "outputs": [],
   "source": [
    "def predicted_image(img_reshape_2, model):\n",
    "# model = model(input_shape= (32,32,1))\n",
    "    result = model.predict(img_reshape_2)\n",
    "    if result.any() == 0:\n",
    "        prediction = 'Normal'\n",
    "    elif result.any() == 1:\n",
    "        prediction = 'Covid-19'\n",
    "    else:\n",
    "        prediction = 'Bacteria'\n",
    "\n",
    "  # prediction =  print(prediction)\n",
    "    result = ' ' + str(prediction) + ' '\n",
    "    return result"
   ]
  },
  {
   "cell_type": "code",
   "execution_count": null,
   "metadata": {},
   "outputs": [],
   "source": [
    "text_result = widgets.Label(value=\"Result will be shown here!\")"
   ]
  },
  {
   "cell_type": "code",
   "execution_count": null,
   "metadata": {},
   "outputs": [],
   "source": [
    "text = widgets.VBox(\n",
    "    children = ([text_result]), layout=Layout(\n",
    "    display='flex',\n",
    "    flex_flow='column',\n",
    "    border='solid 2px',\n",
    "    align_items='stretch',\n",
    "    ))"
   ]
  },
  {
   "cell_type": "code",
   "execution_count": null,
   "metadata": {},
   "outputs": [],
   "source": [
    "# uploader container\n",
    "text_container = widgets.VBox(\n",
    "    children = (text,)\n",
    ")"
   ]
  },
  {
   "cell_type": "code",
   "execution_count": null,
   "metadata": {},
   "outputs": [],
   "source": [
    "form_item_layout = Layout(\n",
    "    display='flex',\n",
    "    flex_flow='row',\n",
    "    justify_content='space-between'\n",
    ")"
   ]
  },
  {
   "cell_type": "code",
   "execution_count": null,
   "metadata": {
    "id": "w9rcp2qzK_vx"
   },
   "outputs": [],
   "source": [
    "# label\n",
    "label_current_thread = widgets.Label()\n",
    "label_thread_list = widgets.Label()\n",
    "\n",
    "# button \n",
    "button_stop = widgets.Button(\n",
    "    description = 'stop',\n",
    "    icon = 'fa-stop',\n",
    "    button_style = 'warning',\n",
    "    layout = widgets.Layout(width='100px')\n",
    ")\n",
    "def button_stop_click(self):\n",
    "    global thread_status\n",
    "    thread_status = False\n",
    "button_stop.on_click(button_stop_click)\n",
    "\n",
    "button_check_thread = widgets.Button(\n",
    "    description = 'check thread',\n",
    "    button_style = '',\n",
    "    layout = widgets.Layout(width='100px')\n",
    ")\n",
    "def button_check_thread_click(self):\n",
    "    # print if work() still running\n",
    "    work_count = 0\n",
    "    name='work'\n",
    "    for thread_object in threading.enumerate():\n",
    "        if thread_object.name == name:\n",
    "            work_count+=1\n",
    "    if work_count > 0:\n",
    "        label_thread_list.value=f'{work_count} thread with name {name} still exist. Consider use exit() and restart kernel'\n",
    "    else:\n",
    "        label_thread_list.value=f'No thread with name {name} exist'\n",
    "button_check_thread.on_click(button_check_thread_click)"
   ]
  },
  {
   "cell_type": "code",
   "execution_count": null,
   "metadata": {
    "id": "ga0hso1CK_sG"
   },
   "outputs": [],
   "source": [
    "# main loop\n",
    "def work():\n",
    "    global thread_status\n",
    "    global model\n",
    "    global image_numpy\n",
    "    global img_reshape_2\n",
    "    \n",
    "    if thread_status:\n",
    "        label_current_thread.value = 'Thread On'\n",
    "\n",
    "    current_state_2 = [annotate_image_uploader.value]\n",
    "    \n",
    "    while thread_status:\n",
    "        \n",
    "        # check if there is a change in uploader.value\n",
    "        if current_state_2 !=[annotate_image_uploader.value]:\n",
    "            \n",
    "            # Preprocessing message\n",
    "            text_result.value = 'Preprocessing...'\n",
    "            text.children = (text_result,)\n",
    "            if text_result.value:\n",
    "                text_container.children = (text,)\n",
    "            \n",
    "            # renew state reference\n",
    "            current_state_2 = [annotate_image_uploader.value]         \n",
    "            \n",
    "            image_widget_annotate = image_widget_from_uploader(annotate_image_uploader)\n",
    "            \n",
    "            image_numpy, extension = image_numpy_from_uploader(annotate_image_uploader)\n",
    "            \n",
    "            # preprocess and predict\n",
    "            \n",
    "            image_numpy = prepro_greyscale(image_numpy)\n",
    "\n",
    "            image_numpy = prepro_resize(image_numpy)\n",
    "\n",
    "            image_numpy = prepro_normalize(image_numpy)\n",
    "            \n",
    "            image_numpy = prepro_clahe(image_numpy)\n",
    "        \n",
    "            image_numpy_widget = image_widget_from_numpy(image_numpy, extension)\n",
    "            \n",
    "            image_numpy = image_reshape(image_numpy)\n",
    "            \n",
    "            image_annotate_container.children = (image_numpy_widget,)\n",
    "            \n",
    "            # Predict message message\n",
    "            text_result.value = 'Predicting...'\n",
    "            text.children = (text_result,)\n",
    "            if text_result.value:\n",
    "                text_container.children = (text,)\n",
    "            \n",
    "            text_result.value = predicted_image(image_numpy, model)\n",
    "            text.children = (text_result,)\n",
    "            if text_result.value:\n",
    "                text_container.children = (text,)\n",
    "                    \n",
    "        # sleep for threading\n",
    "        time.sleep(0.05)\n",
    "        \n",
    "        if not thread_status:\n",
    "            label_current_thread.value = 'Thread Off'"
   ]
  },
  {
   "cell_type": "code",
   "execution_count": null,
   "metadata": {
    "id": "9ZL5z-XrZ_06"
   },
   "outputs": [],
   "source": [
    "# restart flag\n",
    "thread_status = False  \n",
    "thread_status = True\n",
    "\n",
    "# create thread\n",
    "thread_work = threading.Thread(target=work)\n",
    "thread_work.name = 'work'\n",
    "\n",
    "# start thread\n",
    "thread_work.start()"
   ]
  },
  {
   "cell_type": "code",
   "execution_count": null,
   "metadata": {},
   "outputs": [],
   "source": [
    "# Box([Label(value='Upload Mammography'), app], layout=form_item_layout)"
   ]
  },
  {
   "cell_type": "code",
   "execution_count": null,
   "metadata": {},
   "outputs": [],
   "source": [
    "Box([Label(value='Upload Lungs X-Ray Image'), app_2], layout=form_item_layout)"
   ]
  },
  {
   "cell_type": "code",
   "execution_count": null,
   "metadata": {},
   "outputs": [],
   "source": [
    "Box([Label(value='Result'), text_container], layout=form_item_layout)"
   ]
  }
 ],
 "metadata": {
  "colab": {
   "collapsed_sections": [],
   "name": "cnn web 2.ipynb",
   "provenance": []
  },
  "kernelspec": {
   "display_name": "Python 3",
   "language": "python",
   "name": "python3"
  },
  "language_info": {
   "codemirror_mode": {
    "name": "ipython",
    "version": 3
   },
   "file_extension": ".py",
   "mimetype": "text/x-python",
   "name": "python",
   "nbconvert_exporter": "python",
   "pygments_lexer": "ipython3",
   "version": "3.7.7"
  },
  "widgets": {
   "application/vnd.jupyter.widget-state+json": {
    "915634932fd0483fb4227831f312235f": {
     "model_module": "@jupyter-widgets/controls",
     "model_name": "FileUploadModel",
     "state": {
      "_counter": 0,
      "_dom_classes": [],
      "_model_module": "@jupyter-widgets/controls",
      "_model_module_version": "1.5.0",
      "_model_name": "FileUploadModel",
      "_view_count": null,
      "_view_module": "@jupyter-widgets/controls",
      "_view_module_version": "1.5.0",
      "_view_name": "FileUploadView",
      "accept": "image/*",
      "button_style": "",
      "data": [],
      "description": "Upload",
      "description_tooltip": null,
      "disabled": false,
      "error": "",
      "icon": "upload",
      "layout": "IPY_MODEL_c8e9cde3226c46a7bc0eee77bee52b08",
      "metadata": [],
      "multiple": false,
      "style": "IPY_MODEL_b84a7ad88c984bb9b03221b99bbcfb63"
     }
    },
    "b84a7ad88c984bb9b03221b99bbcfb63": {
     "model_module": "@jupyter-widgets/controls",
     "model_name": "ButtonStyleModel",
     "state": {
      "_model_module": "@jupyter-widgets/controls",
      "_model_module_version": "1.5.0",
      "_model_name": "ButtonStyleModel",
      "_view_count": null,
      "_view_module": "@jupyter-widgets/base",
      "_view_module_version": "1.2.0",
      "_view_name": "StyleView",
      "button_color": null,
      "font_weight": ""
     }
    },
    "c8e9cde3226c46a7bc0eee77bee52b08": {
     "model_module": "@jupyter-widgets/base",
     "model_name": "LayoutModel",
     "state": {
      "_model_module": "@jupyter-widgets/base",
      "_model_module_version": "1.2.0",
      "_model_name": "LayoutModel",
      "_view_count": null,
      "_view_module": "@jupyter-widgets/base",
      "_view_module_version": "1.2.0",
      "_view_name": "LayoutView",
      "align_content": null,
      "align_items": null,
      "align_self": null,
      "border": null,
      "bottom": null,
      "display": null,
      "flex": null,
      "flex_flow": null,
      "grid_area": null,
      "grid_auto_columns": null,
      "grid_auto_flow": null,
      "grid_auto_rows": null,
      "grid_column": null,
      "grid_gap": null,
      "grid_row": null,
      "grid_template_areas": null,
      "grid_template_columns": null,
      "grid_template_rows": null,
      "height": null,
      "justify_content": null,
      "justify_items": null,
      "left": null,
      "margin": null,
      "max_height": null,
      "max_width": null,
      "min_height": null,
      "min_width": null,
      "object_fit": null,
      "object_position": null,
      "order": null,
      "overflow": null,
      "overflow_x": null,
      "overflow_y": null,
      "padding": null,
      "right": null,
      "top": null,
      "visibility": null,
      "width": null
     }
    }
   }
  }
 },
 "nbformat": 4,
 "nbformat_minor": 1
}
